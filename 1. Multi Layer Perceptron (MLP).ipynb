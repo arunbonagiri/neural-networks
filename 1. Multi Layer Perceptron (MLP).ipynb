{
 "cells": [
  {
   "cell_type": "markdown",
   "id": "c2c39dd6",
   "metadata": {},
   "source": [
    "# Multi Layer Perceptron"
   ]
  },
  {
   "cell_type": "code",
   "execution_count": 1,
   "id": "53062949",
   "metadata": {},
   "outputs": [],
   "source": [
    "import numpy as np\n",
    "from sklearn import datasets\n",
    "from sklearn.preprocessing import StandardScaler\n",
    "from sklearn.model_selection import train_test_split\n",
    "\n",
    "np.random.seed(42)"
   ]
  },
  {
   "cell_type": "markdown",
   "id": "3e611ad2",
   "metadata": {},
   "source": [
    "### iris dataset\n",
    "The Iris dataset is a popular dataset in machine learning, containing 150 samples of iris flowers, with four features each, used for classification tasks. It consists of three classes representing three species of iris flowers: setosa, versicolor, and virginica."
   ]
  },
  {
   "cell_type": "code",
   "execution_count": 2,
   "id": "4b30b53f",
   "metadata": {},
   "outputs": [],
   "source": [
    "# helper funcition for data preprocessing\n",
    "def one_hot_encode(targets):\n",
    "    encoded_targets = np.zeros((len(targets), 3))\n",
    "    encoded_targets[np.arange(len(targets)), targets] = 1\n",
    "    return encoded_targets"
   ]
  },
  {
   "cell_type": "code",
   "execution_count": 3,
   "id": "4af76166",
   "metadata": {},
   "outputs": [
    {
     "data": {
      "text/plain": [
       "(array([-0.53717756,  0.78880759, -1.2833891 , -1.05217993]),\n",
       " array([1., 0., 0.]))"
      ]
     },
     "execution_count": 3,
     "metadata": {},
     "output_type": "execute_result"
    }
   ],
   "source": [
    "iris = datasets.load_iris()\n",
    "X = iris.data\n",
    "y = iris.target\n",
    "\n",
    "# data preprocessing\n",
    "# scaling inputs with a mean of 0 and a standard deviation of 1 for each feature.\n",
    "# one hot encoding targets, example: 2 --> [0, 0, 1]\n",
    "scaler = StandardScaler()\n",
    "X = scaler.fit_transform(X)\n",
    "y = one_hot_encode(y)               \n",
    "\n",
    "# spliting for model validations\n",
    "# full_dataset(150 samples) --> train_set(145 samples) and test_set(5 samples)\n",
    "X_train, X_test, y_train, y_test = train_test_split(X, y, test_size=5, random_state=42)\n",
    "\n",
    "# sample 0\n",
    "X_train[0], y_train[0]"
   ]
  },
  {
   "cell_type": "code",
   "execution_count": 4,
   "id": "6ce6a384",
   "metadata": {},
   "outputs": [],
   "source": [
    "# healper function for model validation\n",
    "flower_names = [\"Setosa\", \"Versicolor\", \"Virginica\"]\n",
    "\n",
    "def verify(model, string):\n",
    "    print(\"\\n\\n\",string,\"id \\t Actual \\t\\t Prediction \\t right/wrong \\n\")\n",
    "    \n",
    "    data = X_train if string==\"train\" else X_test\n",
    "    targets = y_train if string==\"train\" else y_test\n",
    "    ids = np.random.randint(0, len(targets), 5) if string==\"train\" else list(range(5))\n",
    "    \n",
    "    for i in ids:\n",
    "        pred, actual = model.predict(data[i]), np.argmax(targets[i])\n",
    "        isright = \"right\" if pred==actual else \"wrong\"\n",
    "        print(i,\"\\t\\t\",flower_names[actual],\"\\t\\t\",flower_names[pred], \"\\t\",isright)"
   ]
  },
  {
   "cell_type": "markdown",
   "id": "aad4f805",
   "metadata": {},
   "source": [
    "### Model\n",
    "A Multi-Layer Perceptron (MLP) is a feedforward neural network with input, hidden, and output layers, used for supervised learning tasks. It learns complex patterns from data through backpropagation and activation functions<br><br>"
   ]
  },
  {
   "cell_type": "code",
   "execution_count": 5,
   "id": "9145e595",
   "metadata": {},
   "outputs": [],
   "source": [
    "class MLP():\n",
    "    \n",
    "    def __init__(self, hidden_layer_size=10):\n",
    "        self.hidden_layer_weights = np.random.randn(hidden_layer_size, 4)\n",
    "        self.hidden_layer_biases = np.random.rand(1, hidden_layer_size)\n",
    "        self.output_layer_weights = np.random.randn(3, hidden_layer_size)\n",
    "        self.output_layer_biases = np.random.rand(1, 3)\n",
    "    \n",
    "    def sigmoid(self, z):\n",
    "        return 1 / (1 + np.exp(-z))\n",
    "    \n",
    "    def sigmoid_derivative(self, x):\n",
    "        return x * (1 - x)\n",
    "    \n",
    "    def cross_entropy_loss(self, y, pred, epsilon=1e-15):\n",
    "        pred = np.clip(pred, epsilon, 1-epsilon)\n",
    "        loss = -np.sum(y * np.log(pred))/3\n",
    "        return loss\n",
    "    \n",
    "    def feedforward(self, x):\n",
    "        \n",
    "        # a = sigmoid(x @ w.T + b)\n",
    "        \n",
    "        self.inputs = x\n",
    "        self.a_hidden_layer = self.sigmoid(np.dot(self.inputs, self.hidden_layer_weights.T) + self.hidden_layer_biases)\n",
    "        self.a_output_layer = self.sigmoid(np.dot(self.a_hidden_layer, self.output_layer_weights.T) + self.output_layer_biases)\n",
    "        return self.a_output_layer\n",
    "    \n",
    "    def backpropagation(self, y, learning_rate):\n",
    "        \n",
    "        #   dC       dz       da       dC                 dC       dz       da       dC\n",
    "        #  ----  =  ----  *  ----  *  ----               ----  =  ----  *  ----  *  ----\n",
    "        #   dw       dw       dz       da                 db       db       dz       da\n",
    "        \n",
    "        ouput_layer_error = y - self.a_output_layer\n",
    "        db_output_layer = ouput_layer_error\n",
    "        dw_output_layer = (ouput_layer_error * self.sigmoid_derivative(self.a_output_layer)).T * self.a_hidden_layer\n",
    "\n",
    "        hidden_layer_error = (ouput_layer_error * self.sigmoid_derivative(self.a_output_layer)) @ self.output_layer_weights\n",
    "        db_hidden_layer = hidden_layer_error\n",
    "        dw_hidden_layer = (hidden_layer_error * self.sigmoid_derivative(self.a_hidden_layer)).T * self.inputs\n",
    "\n",
    "        self.output_layer_weights += learning_rate * dw_output_layer\n",
    "        self.output_layer_biases += learning_rate * db_output_layer\n",
    "\n",
    "        self.hidden_layer_weights += learning_rate * dw_hidden_layer\n",
    "        self.hidden_layer_biases += learning_rate * db_hidden_layer\n",
    "    \n",
    "    def train(self, X_train, y_train, epochs=10, learning_rate=0.01):\n",
    "        for e in range(epochs):\n",
    "            loss = 0\n",
    "            for i in range(len(X_train)):\n",
    "                pred = self.feedforward(X_train[i])\n",
    "                loss = self.cross_entropy_loss(y_train[i], pred)\n",
    "                self.backpropagation(y_train[i], learning_rate)\n",
    "            \n",
    "            print('epoch ',(e+1),'\\t---\\tloss: ',loss)\n",
    "    \n",
    "    def predict(self, x):\n",
    "        return np.argmax(self.feedforward(x))\n",
    "        "
   ]
  },
  {
   "cell_type": "code",
   "execution_count": 6,
   "id": "de237c51",
   "metadata": {},
   "outputs": [
    {
     "name": "stdout",
     "output_type": "stream",
     "text": [
      "\n",
      "\n",
      " train id \t Actual \t\t Prediction \t right/wrong \n",
      "\n",
      "62 \t\t Virginica \t\t Versicolor \t wrong\n",
      "95 \t\t Setosa \t\t Virginica \t wrong\n",
      "51 \t\t Setosa \t\t Virginica \t wrong\n",
      "95 \t\t Setosa \t\t Virginica \t wrong\n",
      "131 \t\t Virginica \t\t Virginica \t right\n",
      "\n",
      "\n",
      " test id \t Actual \t\t Prediction \t right/wrong \n",
      "\n",
      "0 \t\t Versicolor \t\t Virginica \t wrong\n",
      "1 \t\t Setosa \t\t Virginica \t wrong\n",
      "2 \t\t Virginica \t\t Virginica \t right\n",
      "3 \t\t Versicolor \t\t Virginica \t wrong\n",
      "4 \t\t Versicolor \t\t Virginica \t wrong\n"
     ]
    }
   ],
   "source": [
    "mlp = MLP()\n",
    "\n",
    "# Lets checking model performance before training\n",
    "verify(mlp, 'train')\n",
    "verify(mlp, 'test')"
   ]
  },
  {
   "cell_type": "markdown",
   "id": "d4e2ce53",
   "metadata": {},
   "source": [
    "### Training"
   ]
  },
  {
   "cell_type": "code",
   "execution_count": 7,
   "id": "4e44a6a5",
   "metadata": {},
   "outputs": [
    {
     "name": "stdout",
     "output_type": "stream",
     "text": [
      "epoch  1 \t---\tloss:  0.0640759526499376\n",
      "epoch  2 \t---\tloss:  0.12281814007713947\n",
      "epoch  3 \t---\tloss:  0.16190395188855103\n",
      "epoch  4 \t---\tloss:  0.17736860451240263\n",
      "epoch  5 \t---\tloss:  0.17945359359249724\n",
      "epoch  6 \t---\tloss:  0.17534168127654615\n",
      "epoch  7 \t---\tloss:  0.1687798059141731\n",
      "epoch  8 \t---\tloss:  0.16156763052321876\n",
      "epoch  9 \t---\tloss:  0.15451671184571275\n",
      "epoch  10 \t---\tloss:  0.14795653374987114\n",
      "epoch  11 \t---\tloss:  0.14198883909432608\n",
      "epoch  12 \t---\tloss:  0.1366126690896484\n",
      "epoch  13 \t---\tloss:  0.13178469840528137\n",
      "epoch  14 \t---\tloss:  0.12744764434000191\n",
      "epoch  15 \t---\tloss:  0.12354310430726707\n",
      "epoch  16 \t---\tloss:  0.12001690164248473\n",
      "epoch  17 \t---\tloss:  0.11682090335841877\n",
      "epoch  18 \t---\tloss:  0.11391323967832064\n",
      "epoch  19 \t---\tloss:  0.1112578544105803\n",
      "epoch  20 \t---\tloss:  0.10882382451909367\n",
      "epoch  21 \t---\tloss:  0.10658464792868821\n",
      "epoch  22 \t---\tloss:  0.10451758309698879\n",
      "epoch  23 \t---\tloss:  0.10260306924612683\n",
      "epoch  24 \t---\tloss:  0.10082423129789864\n",
      "epoch  25 \t---\tloss:  0.09916646313183862\n",
      "epoch  26 \t---\tloss:  0.09761707920193231\n",
      "epoch  27 \t---\tloss:  0.09616502407690691\n",
      "epoch  28 \t---\tloss:  0.09480063029995649\n",
      "epoch  29 \t---\tloss:  0.0935154162359141\n",
      "epoch  30 \t---\tloss:  0.09230191689588224\n",
      "epoch  31 \t---\tloss:  0.09115354193854254\n",
      "epoch  32 \t---\tloss:  0.09006445608983556\n",
      "epoch  33 \t---\tloss:  0.08902947809388334\n",
      "epoch  34 \t---\tloss:  0.08804399502370382\n",
      "epoch  35 \t---\tloss:  0.08710388936274092\n",
      "epoch  36 \t---\tloss:  0.08620547674011914\n",
      "epoch  37 \t---\tloss:  0.08534545258416305\n",
      "epoch  38 \t---\tloss:  0.08452084626742597\n",
      "epoch  39 \t---\tloss:  0.0837289815665191\n",
      "epoch  40 \t---\tloss:  0.08296744246302147\n",
      "epoch  41 \t---\tloss:  0.08223404347697245\n",
      "epoch  42 \t---\tloss:  0.08152680385933657\n",
      "epoch  43 \t---\tloss:  0.08084392508030967\n",
      "epoch  44 \t---\tloss:  0.08018377114112347\n",
      "epoch  45 \t---\tloss:  0.07954485131184495\n",
      "epoch  46 \t---\tloss:  0.0789258049595942\n",
      "epoch  47 \t---\tloss:  0.0783253881829913\n",
      "epoch  48 \t---\tloss:  0.07774246201143041\n",
      "epoch  49 \t---\tloss:  0.07717598196353309\n",
      "epoch  50 \t---\tloss:  0.07662498878907723\n",
      "epoch  51 \t---\tloss:  0.0760886002438845\n",
      "epoch  52 \t---\tloss:  0.07556600376836257\n",
      "epoch  53 \t---\tloss:  0.07505644995835274\n",
      "epoch  54 \t---\tloss:  0.07455924673213897\n",
      "epoch  55 \t---\tloss:  0.0740737541104159\n",
      "epoch  56 \t---\tloss:  0.07359937953703026\n",
      "epoch  57 \t---\tloss:  0.07313557367774189\n",
      "epoch  58 \t---\tloss:  0.07268182664231061\n",
      "epoch  59 \t---\tloss:  0.0722376645821636\n",
      "epoch  60 \t---\tloss:  0.07180264662185125\n",
      "epoch  61 \t---\tloss:  0.0713763620876561\n",
      "epoch  62 \t---\tloss:  0.07095842800117434\n",
      "epoch  63 \t---\tloss:  0.0705484868095421\n",
      "epoch  64 \t---\tloss:  0.07014620432733425\n",
      "epoch  65 \t---\tloss:  0.06975126786807802\n",
      "epoch  66 \t---\tloss:  0.06936338454586623\n",
      "epoch  67 \t---\tloss:  0.06898227972977443\n",
      "epoch  68 \t---\tloss:  0.06860769563573449\n",
      "epoch  69 \t---\tloss:  0.06823939004221348\n",
      "epoch  70 \t---\tloss:  0.06787713511755225\n",
      "epoch  71 \t---\tloss:  0.06752071634812716\n",
      "epoch  72 \t---\tloss:  0.06716993155766521\n",
      "epoch  73 \t---\tloss:  0.06682459000906028\n",
      "epoch  74 \t---\tloss:  0.06648451158095008\n",
      "epoch  75 \t---\tloss:  0.06614952601211181\n",
      "epoch  76 \t---\tloss:  0.06581947220744355\n",
      "epoch  77 \t---\tloss:  0.06549419759993332\n",
      "epoch  78 \t---\tloss:  0.06517355756357668\n",
      "epoch  79 \t---\tloss:  0.06485741487270336\n",
      "epoch  80 \t---\tloss:  0.0645456392036198\n",
      "epoch  81 \t---\tloss:  0.06423810667487172\n",
      "epoch  82 \t---\tloss:  0.06393469942278479\n",
      "epoch  83 \t---\tloss:  0.06363530520926372\n",
      "epoch  84 \t---\tloss:  0.0633398170591086\n",
      "epoch  85 \t---\tloss:  0.06304813292437096\n",
      "epoch  86 \t---\tloss:  0.06276015537349436\n",
      "epoch  87 \t---\tloss:  0.06247579130319464\n",
      "epoch  88 \t---\tloss:  0.062194951671220244\n",
      "epoch  89 \t---\tloss:  0.06191755124829971\n",
      "epoch  90 \t---\tloss:  0.06164350838773438\n",
      "epoch  91 \t---\tloss:  0.061372744811231755\n",
      "epoch  92 \t---\tloss:  0.06110518540969717\n",
      "epoch  93 \t---\tloss:  0.06084075805781126\n",
      "epoch  94 \t---\tloss:  0.060579393441325645\n",
      "epoch  95 \t---\tloss:  0.060321024896097225\n",
      "epoch  96 \t---\tloss:  0.06006558825796434\n",
      "epoch  97 \t---\tloss:  0.05981302172264615\n",
      "epoch  98 \t---\tloss:  0.059563265714911474\n",
      "epoch  99 \t---\tloss:  0.059316262766327975\n",
      "epoch  100 \t---\tloss:  0.0590719574009587\n"
     ]
    }
   ],
   "source": [
    "mlp = MLP()\n",
    "mlp.train(X_train, y_train, epochs=100)"
   ]
  },
  {
   "cell_type": "markdown",
   "id": "21b636db",
   "metadata": {},
   "source": [
    "#### Is it trained?, Let's check"
   ]
  },
  {
   "cell_type": "code",
   "execution_count": 8,
   "id": "b99b265c",
   "metadata": {},
   "outputs": [
    {
     "name": "stdout",
     "output_type": "stream",
     "text": [
      "\n",
      "\n",
      " train id \t Actual \t\t Prediction \t right/wrong \n",
      "\n",
      "32 \t\t Setosa \t\t Setosa \t right\n",
      "141 \t\t Virginica \t\t Versicolor \t wrong\n",
      "20 \t\t Virginica \t\t Virginica \t right\n",
      "47 \t\t Versicolor \t\t Versicolor \t right\n",
      "127 \t\t Setosa \t\t Setosa \t right\n"
     ]
    }
   ],
   "source": [
    "verify(mlp, 'train')"
   ]
  },
  {
   "cell_type": "code",
   "execution_count": 9,
   "id": "ff5afcd1",
   "metadata": {
    "scrolled": true
   },
   "outputs": [
    {
     "name": "stdout",
     "output_type": "stream",
     "text": [
      "\n",
      "\n",
      " test id \t Actual \t\t Prediction \t right/wrong \n",
      "\n",
      "0 \t\t Versicolor \t\t Versicolor \t right\n",
      "1 \t\t Setosa \t\t Setosa \t right\n",
      "2 \t\t Virginica \t\t Virginica \t right\n",
      "3 \t\t Versicolor \t\t Versicolor \t right\n",
      "4 \t\t Versicolor \t\t Versicolor \t right\n"
     ]
    }
   ],
   "source": [
    "verify(mlp, 'test')"
   ]
  },
  {
   "cell_type": "markdown",
   "id": "69dd5c61",
   "metadata": {},
   "source": [
    "#### Looks like our model learned somethig!"
   ]
  }
 ],
 "metadata": {
  "kernelspec": {
   "display_name": "Python 3 (ipykernel)",
   "language": "python",
   "name": "python3"
  },
  "language_info": {
   "codemirror_mode": {
    "name": "ipython",
    "version": 3
   },
   "file_extension": ".py",
   "mimetype": "text/x-python",
   "name": "python",
   "nbconvert_exporter": "python",
   "pygments_lexer": "ipython3",
   "version": "3.9.16"
  }
 },
 "nbformat": 4,
 "nbformat_minor": 5
}
