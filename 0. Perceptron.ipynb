{
 "cells": [
  {
   "cell_type": "markdown",
   "id": "a6bffcdc",
   "metadata": {},
   "source": [
    "# Perceptron\n",
    "A perceptron is a simplified model of a neuron in our brain. It takes multiple inputs, assigns each input a level of importance (weights), and then combines them to make a decision. If the weighted sum crosses a certain threshold, it outputs a \"yes\" or 1; otherwise, it outputs a \"no\" or 0, making it the building block for more complex neural networks used in machine learning.  [more](https://en.wikipedia.org/wiki/Perceptron)"
   ]
  },
  {
   "cell_type": "code",
   "execution_count": 1,
   "id": "fc7ec6ba",
   "metadata": {},
   "outputs": [],
   "source": [
    "import numpy as np\n",
    "import matplotlib.pyplot as plt\n",
    "from sklearn import datasets\n",
    "from sklearn.model_selection import train_test_split"
   ]
  },
  {
   "cell_type": "markdown",
   "id": "b51540fa",
   "metadata": {},
   "source": [
    "### Iris dataset\n",
    "Iris dataset contains data about three types of flowers (Setosa, Versicolor, or Virginica) based on their petal and sepal measurements with 150 samples.<br>but for this problem, we using only two flowers so first 100 samples."
   ]
  },
  {
   "cell_type": "code",
   "execution_count": 2,
   "id": "f910d2aa",
   "metadata": {},
   "outputs": [
    {
     "name": "stdout",
     "output_type": "stream",
     "text": [
      "sample:  38  --- features:  [5.7 3.  4.2 1.2]  ,label:  Versicolor\n"
     ]
    }
   ],
   "source": [
    "n_samples = 100\n",
    "flower_names = [\"Setosa\", \"Versicolor\"]\n",
    "\n",
    "iris = datasets.load_iris()\n",
    "X = iris.data[:n_samples]\n",
    "y = iris.target[:n_samples]\n",
    "\n",
    "# keeping 5 samples seperate data for testing\n",
    "X_train, X_test, y_train, y_test = train_test_split(X, y, test_size=5, random_state=42)\n",
    "\n",
    "# viewing random sample from training data\n",
    "i = np.random.randint(len(X_train))\n",
    "print(\"sample: \", i, \" --- features: \", X_train[i], \" ,label: \", flower_names[y_train[i]])"
   ]
  },
  {
   "cell_type": "markdown",
   "id": "31fe7544",
   "metadata": {},
   "source": [
    "### Model\n",
    "The perceptron basic form, doesn't have the concepts of \"forward\" and \"backward\". the process is straightforward and doesn't involve complex training mechanisms like backpropagation as seen in like multi-layer perceptrons or deep neural networks."
   ]
  },
  {
   "cell_type": "code",
   "execution_count": 3,
   "id": "5df71232",
   "metadata": {},
   "outputs": [],
   "source": [
    "class Perceptron:\n",
    "    \n",
    "    def __init__(self):\n",
    "        self.weights = np.random.rand(4)\n",
    "        self.bias = np.random.rand(1)\n",
    "    \n",
    "    def predict(self, inputs):\n",
    "        weighted_sum = np.dot(self.weights, inputs) + self.bias\n",
    "        output = 1 if weighted_sum > 0 else 0\n",
    "        \n",
    "        return output\n",
    "    \n",
    "    def train(self, training_data, targets, learning_rate=0.1, epochs = 10):\n",
    "        for epoch in range(epochs):\n",
    "            for i in range(len(training_data)):\n",
    "                prediction = self.predict(training_data[i])\n",
    "                error = targets[i] - prediction\n",
    "                \n",
    "                self.weights += learning_rate * error * training_data[i]\n",
    "                self.bias += error * self.bias\n",
    "                \n",
    "                if i%100 == 0:\n",
    "                    print(\"Epoch \",(epoch+1),\" | error: \",error)\n",
    "    "
   ]
  },
  {
   "cell_type": "markdown",
   "id": "22432f91",
   "metadata": {},
   "source": [
    "#### Training\n",
    "Traning model on 5 epochs with learning rate 0.1"
   ]
  },
  {
   "cell_type": "code",
   "execution_count": 4,
   "id": "59509a87",
   "metadata": {},
   "outputs": [
    {
     "name": "stdout",
     "output_type": "stream",
     "text": [
      "Epoch  1  | error:  -1\n",
      "Epoch  2  | error:  0\n",
      "Epoch  3  | error:  0\n",
      "Epoch  4  | error:  0\n",
      "Epoch  5  | error:  0\n",
      "Epoch  6  | error:  0\n",
      "Epoch  7  | error:  0\n",
      "Epoch  8  | error:  0\n",
      "Epoch  9  | error:  0\n",
      "Epoch  10  | error:  0\n"
     ]
    }
   ],
   "source": [
    "model = Perceptron()\n",
    "model.train(X_train, y_train)"
   ]
  },
  {
   "cell_type": "markdown",
   "id": "af296fde",
   "metadata": {},
   "source": [
    "### Is it trained?, let's check\n",
    "first checking on training data by taking 5 random samples, \n",
    "pass into the our trained model and comapare with ground truth targets "
   ]
  },
  {
   "cell_type": "code",
   "execution_count": 5,
   "id": "4a4b73b9",
   "metadata": {},
   "outputs": [],
   "source": [
    "def verify(string):\n",
    "    print(string,\"id \\t Actual \\t\\t Prediction \\t right/wrong \\n\")\n",
    "    \n",
    "    data = X_train if string==\"train\" else X_test\n",
    "    targets = y_train if string==\"train\" else y_test\n",
    "    ids = np.random.randint(0, len(targets), 5) if string==\"train\" else list(range(5))\n",
    "    \n",
    "    for i in ids:\n",
    "        pred, actual = model.predict(data[i]), targets[i]\n",
    "        isright = \"right\" if pred==actual else \"wrong\"\n",
    "        print(i,\"\\t\\t\",flower_names[actual],\"\\t\\t\",flower_names[pred], \"\\t\",isright)"
   ]
  },
  {
   "cell_type": "code",
   "execution_count": 6,
   "id": "77447a7f",
   "metadata": {},
   "outputs": [
    {
     "name": "stdout",
     "output_type": "stream",
     "text": [
      "train id \t Actual \t\t Prediction \t right/wrong \n",
      "\n",
      "57 \t\t Versicolor \t\t Versicolor \t right\n",
      "26 \t\t Setosa \t\t Setosa \t right\n",
      "46 \t\t Setosa \t\t Setosa \t right\n",
      "7 \t\t Versicolor \t\t Versicolor \t right\n",
      "44 \t\t Setosa \t\t Setosa \t right\n"
     ]
    }
   ],
   "source": [
    "verify(\"train\")"
   ]
  },
  {
   "cell_type": "code",
   "execution_count": 7,
   "id": "042e7a11",
   "metadata": {
    "scrolled": false
   },
   "outputs": [
    {
     "name": "stdout",
     "output_type": "stream",
     "text": [
      "test id \t Actual \t\t Prediction \t right/wrong \n",
      "\n",
      "0 \t\t Versicolor \t\t Versicolor \t right\n",
      "1 \t\t Versicolor \t\t Versicolor \t right\n",
      "2 \t\t Versicolor \t\t Versicolor \t right\n",
      "3 \t\t Setosa \t\t Setosa \t right\n",
      "4 \t\t Setosa \t\t Setosa \t right\n"
     ]
    }
   ],
   "source": [
    "verify(\"test\")"
   ]
  },
  {
   "cell_type": "markdown",
   "id": "5bdaf7c4",
   "metadata": {},
   "source": [
    "#### Looks like our model learned something !"
   ]
  }
 ],
 "metadata": {
  "kernelspec": {
   "display_name": "Python 3 (ipykernel)",
   "language": "python",
   "name": "python3"
  },
  "language_info": {
   "codemirror_mode": {
    "name": "ipython",
    "version": 3
   },
   "file_extension": ".py",
   "mimetype": "text/x-python",
   "name": "python",
   "nbconvert_exporter": "python",
   "pygments_lexer": "ipython3",
   "version": "3.9.16"
  }
 },
 "nbformat": 4,
 "nbformat_minor": 5
}
